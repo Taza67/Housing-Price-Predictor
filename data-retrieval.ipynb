{
 "cells": [
  {
   "cell_type": "markdown",
   "id": "7e59d590",
   "metadata": {},
   "source": [
    "# Data Retrieval"
   ]
  },
  {
   "cell_type": "markdown",
   "id": "a26b4d48",
   "metadata": {},
   "source": [
    "## Configuration"
   ]
  },
  {
   "cell_type": "code",
   "execution_count": null,
   "id": "7dc5d959",
   "metadata": {},
   "outputs": [],
   "source": [
    "# Librairies\n",
    "\n",
    "import pandas as pd"
   ]
  },
  {
   "cell_type": "markdown",
   "id": "cc249619",
   "metadata": {},
   "source": [
    "## Global"
   ]
  },
  {
   "cell_type": "code",
   "execution_count": null,
   "id": "b96994e2",
   "metadata": {},
   "outputs": [],
   "source": [
    "# Constants\n",
    "\n",
    "from constants import *"
   ]
  },
  {
   "cell_type": "markdown",
   "id": "56ff7f5f",
   "metadata": {},
   "source": [
    "## Retrieval"
   ]
  },
  {
   "cell_type": "code",
   "execution_count": null,
   "id": "f35d1af1",
   "metadata": {},
   "outputs": [],
   "source": [
    "# Functions\n",
    "\n",
    "def analyse(data):\n",
    "\tnas = data.isna().sum()\n",
    "\tnuniques = data.nunique()\n",
    "\ttypes = data.dtypes\n",
    "\t\n",
    "\treturn pd.DataFrame({\n",
    "\t\t\"NA\": nas,\n",
    "\t\t\"Uniques\": nuniques,\n",
    "\t\t\"types\": types\n",
    "\t})\n",
    "\n",
    "def clean(data):\n",
    "\t# Data Cleaning\n",
    "\tdata[DATA_ADRESSE_SUFFIXE_COLUMN] = data[DATA_ADRESSE_SUFFIXE_COLUMN].fillna(\"\")\n",
    "\tdata = data.dropna(subset=DATA_IMPORTANT_COLUMNS)\n",
    "\t\n",
    "\t# Data Transformation\n",
    "\tdata[DATA_DATE_COLUMN] = pd.to_datetime(data[DATA_DATE_COLUMN], yearfirst=\"True\")\n",
    "\tdata[DATA_YEAR_COLUMN] = data[DATA_DATE_COLUMN].dt.year\n",
    "\tdata[DATA_MONTH_COLUMN] = data[DATA_DATE_COLUMN].dt.month\n",
    "\n",
    "\t# Data Selection\n",
    "\tdata = data[data[DATA_NATURE_MUTATION_COLUMN] == DATA_NATURE_MUTATION_VENTE_VALUE]\n",
    "\tdata = data[data[DATA_TYPE_LOCAL_COLUMN].isin(DATA_TYPE_LOCAL_VALUE)]\n",
    "\n",
    "\treturn data\n",
    "\n",
    "def sample(data):\n",
    "\tdata[\"classes_\"] = data[DATA_CLASS_COLUMNS].astype(str).agg(\"_\".join, axis=1)\n",
    "\tsample = data.groupby(\"classes_\", group_keys=False).apply(\n",
    "\t\tlambda c: c.sample(min(len(c), DATA_CLASS_SIZE), random_state=42)\n",
    "\t)\n",
    "\tsample = sample.drop(\"classes_\", axis=1)\n",
    "\n",
    "\treturn sample\n",
    "\n",
    "def merge(data_chunks, clean_func, columns):\n",
    "\tdata = pd.DataFrame(columns=columns)\n",
    "\n",
    "\ttolerance = 5\n",
    "\tsize = 0\n",
    "\tfor data_chunk in data_chunks:\n",
    "\t\tdata_chunk = clean_func(data_chunk)\n",
    "\t\tdata = pd.concat([data_chunk, data])\n",
    "\t\tdata = sample(data)\n",
    "\n",
    "\t\tif data.shape[0] >= DATA_SIZE: break\n",
    "\t\tif data.shape[0] == size:\n",
    "\t\t\ttolerance -= 1\n",
    "\t\t\tif tolerance == 0: break\n",
    "\t\t\n",
    "\t\tsize = data.shape[0]\n",
    "\t\n",
    "\tdata = data.drop([DATA_NATURE_MUTATION_COLUMN], axis=1)\n",
    "\tdata = data.sort_values(DATA_DATE_COLUMN).reset_index(drop=True)\n",
    "\n",
    "\treturn data"
   ]
  },
  {
   "cell_type": "markdown",
   "id": "2dfed531",
   "metadata": {},
   "source": [
    "#### Real Estate Data"
   ]
  },
  {
   "cell_type": "code",
   "execution_count": null,
   "id": "e5089dfc",
   "metadata": {},
   "outputs": [],
   "source": [
    "# Parameters\n",
    "\n",
    "columns = DATA_COLUMNS"
   ]
  },
  {
   "cell_type": "code",
   "execution_count": null,
   "id": "54459155",
   "metadata": {},
   "outputs": [],
   "source": [
    "# Retrieval\n",
    "\n",
    "data_chunks = pd.read_csv(DATA_FILE_PATH, sep=DATA_SEP_CHAR, chunksize=DATA_CHUNK_SIZE, usecols=columns)\n",
    "\n",
    "data = merge(data_chunks, clean, DATA_COLUMNS)"
   ]
  },
  {
   "cell_type": "code",
   "execution_count": null,
   "id": "6a1e78f9",
   "metadata": {},
   "outputs": [],
   "source": [
    "# Analysis\n",
    "\n",
    "analyse(data)"
   ]
  },
  {
   "cell_type": "code",
   "execution_count": null,
   "id": "d578754c",
   "metadata": {},
   "outputs": [],
   "source": [
    "# Visualization\n",
    "\n",
    "data"
   ]
  },
  {
   "cell_type": "code",
   "execution_count": null,
   "id": "130ea541",
   "metadata": {},
   "outputs": [],
   "source": [
    "data.groupby(DATA_CLASS_COLUMNS)[DATA_CODE_COMMUNE_COLUMN].count()"
   ]
  },
  {
   "cell_type": "code",
   "execution_count": null,
   "id": "b3d9b7d5",
   "metadata": {},
   "outputs": [],
   "source": [
    "# Save\n",
    "\n",
    "data[DATA_MAIN_CLASSES].to_csv(DATA_CLEAN_FILE_PATH, index=False)"
   ]
  }
 ],
 "metadata": {
  "kernelspec": {
   "display_name": ".venv",
   "language": "python",
   "name": "python3"
  },
  "language_info": {
   "codemirror_mode": {
    "name": "ipython",
    "version": 3
   },
   "file_extension": ".py",
   "mimetype": "text/x-python",
   "name": "python",
   "nbconvert_exporter": "python",
   "pygments_lexer": "ipython3",
   "version": "3.13.7"
  }
 },
 "nbformat": 4,
 "nbformat_minor": 5
}
